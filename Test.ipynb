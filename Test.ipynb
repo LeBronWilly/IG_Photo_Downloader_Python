{
 "cells": [
  {
   "cell_type": "markdown",
   "id": "1466dbc9",
   "metadata": {},
   "source": [
    "1. https://instaloader.github.io/index.html\n",
    "2. https://stackoverflow.com/questions/71182479/download-only-instagram-videos-with-instaloader\n",
    "3. https://instaloader.github.io/module/structures.html#posts\n",
    "4. https://stackoverflow.com/questions/71182479/download-only-instagram-videos-with-instaloader\n",
    "5. https://samjason515.medium.com/超簡單instagram-爬蟲套件-instaloader-ad3ec7016fa2"
   ]
  },
  {
   "cell_type": "code",
   "execution_count": 7,
   "id": "637c93b0",
   "metadata": {
    "scrolled": true
   },
   "outputs": [
    {
     "name": "stderr",
     "output_type": "stream",
     "text": [
      "JSON Query to api/v1/users/web_profile_info/?username=kingjames1616616165165165: 404 Not Found [retrying; skip with ^C]\n",
      "JSON Query to api/v1/users/web_profile_info/?username=kingjames1616616165165165: 404 Not Found [retrying; skip with ^C]\n"
     ]
    },
    {
     "ename": "ProfileNotExistsException",
     "evalue": "Profile kingjames1616616165165165 does not exist.",
     "output_type": "error",
     "traceback": [
      "\u001b[1;31m---------------------------------------------------------------------------\u001b[0m",
      "\u001b[1;31mQueryReturnedNotFoundException\u001b[0m            Traceback (most recent call last)",
      "\u001b[1;32mD:\\Anaconda3\\envs\\tensorflow\\lib\\site-packages\\instaloader\\instaloadercontext.py\u001b[0m in \u001b[0;36mget_json\u001b[1;34m(self, path, params, host, session, _attempt)\u001b[0m\n\u001b[0;32m    346\u001b[0m             \u001b[1;32mif\u001b[0m \u001b[0mresp\u001b[0m\u001b[1;33m.\u001b[0m\u001b[0mstatus_code\u001b[0m \u001b[1;33m==\u001b[0m \u001b[1;36m404\u001b[0m\u001b[1;33m:\u001b[0m\u001b[1;33m\u001b[0m\u001b[1;33m\u001b[0m\u001b[0m\n\u001b[1;32m--> 347\u001b[1;33m                 \u001b[1;32mraise\u001b[0m \u001b[0mQueryReturnedNotFoundException\u001b[0m\u001b[1;33m(\u001b[0m\u001b[1;34m\"404 Not Found\"\u001b[0m\u001b[1;33m)\u001b[0m\u001b[1;33m\u001b[0m\u001b[1;33m\u001b[0m\u001b[0m\n\u001b[0m\u001b[0;32m    348\u001b[0m             \u001b[1;32mif\u001b[0m \u001b[0mresp\u001b[0m\u001b[1;33m.\u001b[0m\u001b[0mstatus_code\u001b[0m \u001b[1;33m==\u001b[0m \u001b[1;36m429\u001b[0m\u001b[1;33m:\u001b[0m\u001b[1;33m\u001b[0m\u001b[1;33m\u001b[0m\u001b[0m\n",
      "\u001b[1;31mQueryReturnedNotFoundException\u001b[0m: 404 Not Found",
      "\nDuring handling of the above exception, another exception occurred:\n",
      "\u001b[1;31mQueryReturnedNotFoundException\u001b[0m            Traceback (most recent call last)",
      "\u001b[1;32mD:\\Anaconda3\\envs\\tensorflow\\lib\\site-packages\\instaloader\\instaloadercontext.py\u001b[0m in \u001b[0;36mget_json\u001b[1;34m(self, path, params, host, session, _attempt)\u001b[0m\n\u001b[0;32m    346\u001b[0m             \u001b[1;32mif\u001b[0m \u001b[0mresp\u001b[0m\u001b[1;33m.\u001b[0m\u001b[0mstatus_code\u001b[0m \u001b[1;33m==\u001b[0m \u001b[1;36m404\u001b[0m\u001b[1;33m:\u001b[0m\u001b[1;33m\u001b[0m\u001b[1;33m\u001b[0m\u001b[0m\n\u001b[1;32m--> 347\u001b[1;33m                 \u001b[1;32mraise\u001b[0m \u001b[0mQueryReturnedNotFoundException\u001b[0m\u001b[1;33m(\u001b[0m\u001b[1;34m\"404 Not Found\"\u001b[0m\u001b[1;33m)\u001b[0m\u001b[1;33m\u001b[0m\u001b[1;33m\u001b[0m\u001b[0m\n\u001b[0m\u001b[0;32m    348\u001b[0m             \u001b[1;32mif\u001b[0m \u001b[0mresp\u001b[0m\u001b[1;33m.\u001b[0m\u001b[0mstatus_code\u001b[0m \u001b[1;33m==\u001b[0m \u001b[1;36m429\u001b[0m\u001b[1;33m:\u001b[0m\u001b[1;33m\u001b[0m\u001b[1;33m\u001b[0m\u001b[0m\n",
      "\u001b[1;31mQueryReturnedNotFoundException\u001b[0m: 404 Not Found",
      "\nDuring handling of the above exception, another exception occurred:\n",
      "\u001b[1;31mQueryReturnedNotFoundException\u001b[0m            Traceback (most recent call last)",
      "\u001b[1;32mD:\\Anaconda3\\envs\\tensorflow\\lib\\site-packages\\instaloader\\instaloadercontext.py\u001b[0m in \u001b[0;36mget_json\u001b[1;34m(self, path, params, host, session, _attempt)\u001b[0m\n\u001b[0;32m    346\u001b[0m             \u001b[1;32mif\u001b[0m \u001b[0mresp\u001b[0m\u001b[1;33m.\u001b[0m\u001b[0mstatus_code\u001b[0m \u001b[1;33m==\u001b[0m \u001b[1;36m404\u001b[0m\u001b[1;33m:\u001b[0m\u001b[1;33m\u001b[0m\u001b[1;33m\u001b[0m\u001b[0m\n\u001b[1;32m--> 347\u001b[1;33m                 \u001b[1;32mraise\u001b[0m \u001b[0mQueryReturnedNotFoundException\u001b[0m\u001b[1;33m(\u001b[0m\u001b[1;34m\"404 Not Found\"\u001b[0m\u001b[1;33m)\u001b[0m\u001b[1;33m\u001b[0m\u001b[1;33m\u001b[0m\u001b[0m\n\u001b[0m\u001b[0;32m    348\u001b[0m             \u001b[1;32mif\u001b[0m \u001b[0mresp\u001b[0m\u001b[1;33m.\u001b[0m\u001b[0mstatus_code\u001b[0m \u001b[1;33m==\u001b[0m \u001b[1;36m429\u001b[0m\u001b[1;33m:\u001b[0m\u001b[1;33m\u001b[0m\u001b[1;33m\u001b[0m\u001b[0m\n",
      "\u001b[1;31mQueryReturnedNotFoundException\u001b[0m: 404 Not Found",
      "\nThe above exception was the direct cause of the following exception:\n",
      "\u001b[1;31mQueryReturnedNotFoundException\u001b[0m            Traceback (most recent call last)",
      "\u001b[1;32mD:\\Anaconda3\\envs\\tensorflow\\lib\\site-packages\\instaloader\\structures.py\u001b[0m in \u001b[0;36m_obtain_metadata\u001b[1;34m(self)\u001b[0m\n\u001b[0;32m    772\u001b[0m             \u001b[1;32mif\u001b[0m \u001b[1;32mnot\u001b[0m \u001b[0mself\u001b[0m\u001b[1;33m.\u001b[0m\u001b[0m_has_full_metadata\u001b[0m\u001b[1;33m:\u001b[0m\u001b[1;33m\u001b[0m\u001b[1;33m\u001b[0m\u001b[0m\n\u001b[1;32m--> 773\u001b[1;33m                 metadata = self._context.get_iphone_json(f'api/v1/users/web_profile_info/?username={self.username}',\n\u001b[0m\u001b[0;32m    774\u001b[0m                                                          params={})\n",
      "\u001b[1;32mD:\\Anaconda3\\envs\\tensorflow\\lib\\site-packages\\instaloader\\instaloadercontext.py\u001b[0m in \u001b[0;36mget_iphone_json\u001b[1;34m(self, path, params)\u001b[0m\n\u001b[0;32m    487\u001b[0m                 \u001b[0mtempsession\u001b[0m\u001b[1;33m.\u001b[0m\u001b[0mheaders\u001b[0m\u001b[1;33m.\u001b[0m\u001b[0mpop\u001b[0m\u001b[1;33m(\u001b[0m\u001b[0mheader\u001b[0m\u001b[1;33m,\u001b[0m \u001b[1;32mNone\u001b[0m\u001b[1;33m)\u001b[0m\u001b[1;33m\u001b[0m\u001b[1;33m\u001b[0m\u001b[0m\n\u001b[1;32m--> 488\u001b[1;33m             \u001b[1;32mreturn\u001b[0m \u001b[0mself\u001b[0m\u001b[1;33m.\u001b[0m\u001b[0mget_json\u001b[0m\u001b[1;33m(\u001b[0m\u001b[0mpath\u001b[0m\u001b[1;33m,\u001b[0m \u001b[0mparams\u001b[0m\u001b[1;33m,\u001b[0m \u001b[1;34m'i.instagram.com'\u001b[0m\u001b[1;33m,\u001b[0m \u001b[0mtempsession\u001b[0m\u001b[1;33m)\u001b[0m\u001b[1;33m\u001b[0m\u001b[1;33m\u001b[0m\u001b[0m\n\u001b[0m\u001b[0;32m    489\u001b[0m \u001b[1;33m\u001b[0m\u001b[0m\n",
      "\u001b[1;32mD:\\Anaconda3\\envs\\tensorflow\\lib\\site-packages\\instaloader\\instaloadercontext.py\u001b[0m in \u001b[0;36mget_json\u001b[1;34m(self, path, params, host, session, _attempt)\u001b[0m\n\u001b[0;32m    393\u001b[0m                         \u001b[0mself\u001b[0m\u001b[1;33m.\u001b[0m\u001b[0m_rate_controller\u001b[0m\u001b[1;33m.\u001b[0m\u001b[0mhandle_429\u001b[0m\u001b[1;33m(\u001b[0m\u001b[1;34m'other'\u001b[0m\u001b[1;33m)\u001b[0m\u001b[1;33m\u001b[0m\u001b[1;33m\u001b[0m\u001b[0m\n\u001b[1;32m--> 394\u001b[1;33m                 \u001b[1;32mreturn\u001b[0m \u001b[0mself\u001b[0m\u001b[1;33m.\u001b[0m\u001b[0mget_json\u001b[0m\u001b[1;33m(\u001b[0m\u001b[0mpath\u001b[0m\u001b[1;33m=\u001b[0m\u001b[0mpath\u001b[0m\u001b[1;33m,\u001b[0m \u001b[0mparams\u001b[0m\u001b[1;33m=\u001b[0m\u001b[0mparams\u001b[0m\u001b[1;33m,\u001b[0m \u001b[0mhost\u001b[0m\u001b[1;33m=\u001b[0m\u001b[0mhost\u001b[0m\u001b[1;33m,\u001b[0m \u001b[0msession\u001b[0m\u001b[1;33m=\u001b[0m\u001b[0msess\u001b[0m\u001b[1;33m,\u001b[0m \u001b[0m_attempt\u001b[0m\u001b[1;33m=\u001b[0m\u001b[0m_attempt\u001b[0m \u001b[1;33m+\u001b[0m \u001b[1;36m1\u001b[0m\u001b[1;33m)\u001b[0m\u001b[1;33m\u001b[0m\u001b[1;33m\u001b[0m\u001b[0m\n\u001b[0m\u001b[0;32m    395\u001b[0m             \u001b[1;32mexcept\u001b[0m \u001b[0mKeyboardInterrupt\u001b[0m\u001b[1;33m:\u001b[0m\u001b[1;33m\u001b[0m\u001b[1;33m\u001b[0m\u001b[0m\n",
      "\u001b[1;32mD:\\Anaconda3\\envs\\tensorflow\\lib\\site-packages\\instaloader\\instaloadercontext.py\u001b[0m in \u001b[0;36mget_json\u001b[1;34m(self, path, params, host, session, _attempt)\u001b[0m\n\u001b[0;32m    393\u001b[0m                         \u001b[0mself\u001b[0m\u001b[1;33m.\u001b[0m\u001b[0m_rate_controller\u001b[0m\u001b[1;33m.\u001b[0m\u001b[0mhandle_429\u001b[0m\u001b[1;33m(\u001b[0m\u001b[1;34m'other'\u001b[0m\u001b[1;33m)\u001b[0m\u001b[1;33m\u001b[0m\u001b[1;33m\u001b[0m\u001b[0m\n\u001b[1;32m--> 394\u001b[1;33m                 \u001b[1;32mreturn\u001b[0m \u001b[0mself\u001b[0m\u001b[1;33m.\u001b[0m\u001b[0mget_json\u001b[0m\u001b[1;33m(\u001b[0m\u001b[0mpath\u001b[0m\u001b[1;33m=\u001b[0m\u001b[0mpath\u001b[0m\u001b[1;33m,\u001b[0m \u001b[0mparams\u001b[0m\u001b[1;33m=\u001b[0m\u001b[0mparams\u001b[0m\u001b[1;33m,\u001b[0m \u001b[0mhost\u001b[0m\u001b[1;33m=\u001b[0m\u001b[0mhost\u001b[0m\u001b[1;33m,\u001b[0m \u001b[0msession\u001b[0m\u001b[1;33m=\u001b[0m\u001b[0msess\u001b[0m\u001b[1;33m,\u001b[0m \u001b[0m_attempt\u001b[0m\u001b[1;33m=\u001b[0m\u001b[0m_attempt\u001b[0m \u001b[1;33m+\u001b[0m \u001b[1;36m1\u001b[0m\u001b[1;33m)\u001b[0m\u001b[1;33m\u001b[0m\u001b[1;33m\u001b[0m\u001b[0m\n\u001b[0m\u001b[0;32m    395\u001b[0m             \u001b[1;32mexcept\u001b[0m \u001b[0mKeyboardInterrupt\u001b[0m\u001b[1;33m:\u001b[0m\u001b[1;33m\u001b[0m\u001b[1;33m\u001b[0m\u001b[0m\n",
      "\u001b[1;32mD:\\Anaconda3\\envs\\tensorflow\\lib\\site-packages\\instaloader\\instaloadercontext.py\u001b[0m in \u001b[0;36mget_json\u001b[1;34m(self, path, params, host, session, _attempt)\u001b[0m\n\u001b[0;32m    381\u001b[0m                 \u001b[1;32mif\u001b[0m \u001b[0misinstance\u001b[0m\u001b[1;33m(\u001b[0m\u001b[0merr\u001b[0m\u001b[1;33m,\u001b[0m \u001b[0mQueryReturnedNotFoundException\u001b[0m\u001b[1;33m)\u001b[0m\u001b[1;33m:\u001b[0m\u001b[1;33m\u001b[0m\u001b[1;33m\u001b[0m\u001b[0m\n\u001b[1;32m--> 382\u001b[1;33m                     \u001b[1;32mraise\u001b[0m \u001b[0mQueryReturnedNotFoundException\u001b[0m\u001b[1;33m(\u001b[0m\u001b[0merror_string\u001b[0m\u001b[1;33m)\u001b[0m \u001b[1;32mfrom\u001b[0m \u001b[0merr\u001b[0m\u001b[1;33m\u001b[0m\u001b[1;33m\u001b[0m\u001b[0m\n\u001b[0m\u001b[0;32m    383\u001b[0m                 \u001b[1;32melse\u001b[0m\u001b[1;33m:\u001b[0m\u001b[1;33m\u001b[0m\u001b[1;33m\u001b[0m\u001b[0m\n",
      "\u001b[1;31mQueryReturnedNotFoundException\u001b[0m: JSON Query to api/v1/users/web_profile_info/?username=kingjames1616616165165165: 404 Not Found",
      "\nThe above exception was the direct cause of the following exception:\n",
      "\u001b[1;31mProfileNotExistsException\u001b[0m                 Traceback (most recent call last)",
      "\u001b[1;32m~\\AppData\\Local\\Temp/ipykernel_25864/3115173779.py\u001b[0m in \u001b[0;36m<module>\u001b[1;34m\u001b[0m\n\u001b[0;32m     12\u001b[0m \u001b[1;31m# ig_username = \"patbev21\"\u001b[0m\u001b[1;33m\u001b[0m\u001b[1;33m\u001b[0m\u001b[1;33m\u001b[0m\u001b[0m\n\u001b[0;32m     13\u001b[0m \u001b[1;33m\u001b[0m\u001b[0m\n\u001b[1;32m---> 14\u001b[1;33m \u001b[0mprofile\u001b[0m \u001b[1;33m=\u001b[0m \u001b[0minstaloader\u001b[0m\u001b[1;33m.\u001b[0m\u001b[0mProfile\u001b[0m\u001b[1;33m.\u001b[0m\u001b[0mfrom_username\u001b[0m\u001b[1;33m(\u001b[0m\u001b[0mig\u001b[0m\u001b[1;33m.\u001b[0m\u001b[0mcontext\u001b[0m\u001b[1;33m,\u001b[0m \u001b[0mig_username\u001b[0m\u001b[1;33m)\u001b[0m\u001b[1;33m\u001b[0m\u001b[1;33m\u001b[0m\u001b[0m\n\u001b[0m\u001b[0;32m     15\u001b[0m \u001b[1;31m# # posts = sorted(profile.get_posts(), key=lambda post: post.date, reverse=True)\u001b[0m\u001b[1;33m\u001b[0m\u001b[1;33m\u001b[0m\u001b[1;33m\u001b[0m\u001b[0m\n\u001b[0;32m     16\u001b[0m \u001b[1;31m# posts = list(profile.get_posts())\u001b[0m\u001b[1;33m\u001b[0m\u001b[1;33m\u001b[0m\u001b[1;33m\u001b[0m\u001b[0m\n",
      "\u001b[1;32mD:\\Anaconda3\\envs\\tensorflow\\lib\\site-packages\\instaloader\\structures.py\u001b[0m in \u001b[0;36mfrom_username\u001b[1;34m(cls, context, username)\u001b[0m\n\u001b[0;32m    702\u001b[0m         \u001b[1;31m# pylint:disable=protected-access\u001b[0m\u001b[1;33m\u001b[0m\u001b[1;33m\u001b[0m\u001b[1;33m\u001b[0m\u001b[0m\n\u001b[0;32m    703\u001b[0m         \u001b[0mprofile\u001b[0m \u001b[1;33m=\u001b[0m \u001b[0mcls\u001b[0m\u001b[1;33m(\u001b[0m\u001b[0mcontext\u001b[0m\u001b[1;33m,\u001b[0m \u001b[1;33m{\u001b[0m\u001b[1;34m'username'\u001b[0m\u001b[1;33m:\u001b[0m \u001b[0musername\u001b[0m\u001b[1;33m.\u001b[0m\u001b[0mlower\u001b[0m\u001b[1;33m(\u001b[0m\u001b[1;33m)\u001b[0m\u001b[1;33m}\u001b[0m\u001b[1;33m)\u001b[0m\u001b[1;33m\u001b[0m\u001b[1;33m\u001b[0m\u001b[0m\n\u001b[1;32m--> 704\u001b[1;33m         \u001b[0mprofile\u001b[0m\u001b[1;33m.\u001b[0m\u001b[0m_obtain_metadata\u001b[0m\u001b[1;33m(\u001b[0m\u001b[1;33m)\u001b[0m  \u001b[1;31m# to raise ProfileNotExistsException now in case username is invalid\u001b[0m\u001b[1;33m\u001b[0m\u001b[1;33m\u001b[0m\u001b[0m\n\u001b[0m\u001b[0;32m    705\u001b[0m         \u001b[1;32mreturn\u001b[0m \u001b[0mprofile\u001b[0m\u001b[1;33m\u001b[0m\u001b[1;33m\u001b[0m\u001b[0m\n\u001b[0;32m    706\u001b[0m \u001b[1;33m\u001b[0m\u001b[0m\n",
      "\u001b[1;32mD:\\Anaconda3\\envs\\tensorflow\\lib\\site-packages\\instaloader\\structures.py\u001b[0m in \u001b[0;36m_obtain_metadata\u001b[1;34m(self)\u001b[0m\n\u001b[0;32m    788\u001b[0m                                                         \u001b[1;34m's are'\u001b[0m \u001b[1;32mif\u001b[0m \u001b[0mlen\u001b[0m\u001b[1;33m(\u001b[0m\u001b[0msimilar_profiles\u001b[0m\u001b[1;33m)\u001b[0m \u001b[1;33m>\u001b[0m \u001b[1;36m1\u001b[0m \u001b[1;32melse\u001b[0m \u001b[1;34m' is'\u001b[0m\u001b[1;33m,\u001b[0m\u001b[1;33m\u001b[0m\u001b[1;33m\u001b[0m\u001b[0m\n\u001b[0;32m    789\u001b[0m                                                         ', '.join(similar_profiles[0:5]))) from err\n\u001b[1;32m--> 790\u001b[1;33m             \u001b[1;32mraise\u001b[0m \u001b[0mProfileNotExistsException\u001b[0m\u001b[1;33m(\u001b[0m\u001b[1;34m'Profile {} does not exist.'\u001b[0m\u001b[1;33m.\u001b[0m\u001b[0mformat\u001b[0m\u001b[1;33m(\u001b[0m\u001b[0mself\u001b[0m\u001b[1;33m.\u001b[0m\u001b[0musername\u001b[0m\u001b[1;33m)\u001b[0m\u001b[1;33m)\u001b[0m \u001b[1;32mfrom\u001b[0m \u001b[0merr\u001b[0m\u001b[1;33m\u001b[0m\u001b[1;33m\u001b[0m\u001b[0m\n\u001b[0m\u001b[0;32m    791\u001b[0m \u001b[1;33m\u001b[0m\u001b[0m\n\u001b[0;32m    792\u001b[0m     \u001b[1;32mdef\u001b[0m \u001b[0m_metadata\u001b[0m\u001b[1;33m(\u001b[0m\u001b[0mself\u001b[0m\u001b[1;33m,\u001b[0m \u001b[1;33m*\u001b[0m\u001b[0mkeys\u001b[0m\u001b[1;33m)\u001b[0m \u001b[1;33m->\u001b[0m \u001b[0mAny\u001b[0m\u001b[1;33m:\u001b[0m\u001b[1;33m\u001b[0m\u001b[1;33m\u001b[0m\u001b[0m\n",
      "\u001b[1;31mProfileNotExistsException\u001b[0m: Profile kingjames1616616165165165 does not exist."
     ]
    }
   ],
   "source": [
    "import instaloader\n",
    "import os\n",
    "import glob\n",
    "# from datetime import datetime, timezone\n",
    " \n",
    "ig = instaloader.Instaloader()\n",
    "# account = input(\"Enter your IG account: \")\n",
    "# password = input(\"Enter your IG password: \")\n",
    "# ig.login(account, password)\n",
    "\n",
    "ig_username = \"kingjames1616616165165165\"\n",
    "# ig_username = \"patbev21\"\n",
    "\n",
    "profile = instaloader.Profile.from_username(ig.context, ig_username)\n",
    "# # posts = sorted(profile.get_posts(), key=lambda post: post.date, reverse=True)\n",
    "# posts = list(profile.get_posts())\n",
    "# dates_list = [post.date.strftime(\"%Y/%m/%d %H:%M:%S\") for post in posts]"
   ]
  },
  {
   "cell_type": "code",
   "execution_count": 4,
   "id": "0ebee2d2",
   "metadata": {},
   "outputs": [
    {
     "ename": "NameError",
     "evalue": "name 'dates_list' is not defined",
     "output_type": "error",
     "traceback": [
      "\u001b[1;31m---------------------------------------------------------------------------\u001b[0m",
      "\u001b[1;31mNameError\u001b[0m                                 Traceback (most recent call last)",
      "\u001b[1;32m~\\AppData\\Local\\Temp/ipykernel_25864/2205514924.py\u001b[0m in \u001b[0;36m<module>\u001b[1;34m\u001b[0m\n\u001b[1;32m----> 1\u001b[1;33m \u001b[0mdates_list\u001b[0m\u001b[1;33m\u001b[0m\u001b[1;33m\u001b[0m\u001b[0m\n\u001b[0m",
      "\u001b[1;31mNameError\u001b[0m: name 'dates_list' is not defined"
     ]
    }
   ],
   "source": [
    "dates_list"
   ]
  },
  {
   "cell_type": "code",
   "execution_count": 32,
   "id": "4ddeeb1c",
   "metadata": {
    "scrolled": true
   },
   "outputs": [
    {
     "name": "stdout",
     "output_type": "stream",
     "text": [
      "patbev21\\2022-08-24_22-23-14_UTC_1.jpg patbev21\\2022-08-24_22-23-14_UTC_2.jpg patbev21\\2022-08-24_22-23-14_UTC_3.jpg json \n"
     ]
    }
   ],
   "source": [
    "ig.download_post(posts[dates_list.index('2022/08/24 22:23:14')], ig_username)\n",
    "delete_list = glob.glob(PROFILE+'/*.json.xz')\n",
    "for d in delete_list:\n",
    "    os.remove(d)"
   ]
  },
  {
   "cell_type": "code",
   "execution_count": null,
   "id": "37ed527e",
   "metadata": {},
   "outputs": [],
   "source": []
  },
  {
   "cell_type": "code",
   "execution_count": null,
   "id": "caaa5035",
   "metadata": {},
   "outputs": [],
   "source": []
  },
  {
   "cell_type": "code",
   "execution_count": null,
   "id": "feb2acab",
   "metadata": {},
   "outputs": [],
   "source": []
  },
  {
   "cell_type": "code",
   "execution_count": null,
   "id": "383d750e",
   "metadata": {},
   "outputs": [],
   "source": []
  },
  {
   "cell_type": "code",
   "execution_count": null,
   "id": "114c9d9e",
   "metadata": {},
   "outputs": [],
   "source": []
  },
  {
   "cell_type": "code",
   "execution_count": 29,
   "id": "cad62652",
   "metadata": {
    "scrolled": true
   },
   "outputs": [],
   "source": [
    "# https://www.learncodewithmike.com/2020/05/python-selenium-scraper.html\n",
    "# https://www.learncodewithmike.com/2020/02/python-beautifulsoup-web-scraper.html\n",
    "# https://www.learncodewithmike.com/2020/09/7-tips-to-avoid-getting-blocked-while-scraping.html\n",
    "# https://steam.oxxostudio.tw/category/python/spider/crack-spider.html\n",
    "# https://selenium-python.readthedocs.io/\n",
    "# https://www.learncodewithmike.com/2020/05/python-selenium-scraper.html\n",
    "# https://stackoverflow.com/questions/52769997/selenium-webdriver-firefox-options-what-is-it-about\n",
    "\n",
    "    \n",
    "import requests\n",
    "from bs4 import BeautifulSoup\n",
    "from selenium import webdriver\n",
    "from time import sleep\n",
    "# from selenium.webdriver.firefox.options import Options\n",
    "from selenium.webdriver.chrome.options import Options\n",
    "\n",
    "\n",
    "IG_url = \"https://www.instagram.com/p/ChnyHzGNFtC/\"\n",
    "user_agent = \"Mozilla/5.0 (Macintosh; Intel Mac OS X 10_13_6) AppleWebKit/605.1.15 (KHTML, like Gecko) Version/12.0.3 Safari/605.1.15\"\n",
    "\n",
    "options = Options()\n",
    "# options.add_argument(\"--disable-notifications\")\n",
    "options.add_argument('--disable-notifications --user-agent=%s' % user_agent)\n",
    "\n",
    "# chrome = webdriver.Firefox(options=options)\n",
    "chrome = webdriver.Chrome(options=options)\n",
    "chrome.get(IG_url)\n",
    "\n",
    "\n",
    "\n",
    "# my_headers = {'user-agent': 'Mozilla/5.0 (Macintosh Intel Mac OS X 10_13_4) AppleWebKit/537.36 (KHTML, like Gecko) Chrome/66.0.3359.181 Safari/537.36'}\n",
    "\n",
    "# IG_html = requests.get(IG_url, headers=my_headers)\n",
    "# print(IG_html.status_code)\n",
    "\n",
    "# IG_bs4 = BeautifulSoup(IG_html.text, 'html.parser')\n",
    "# print(IG_bs4.prettify())\n",
    "# print(IG_bs4.find_all(\"img\")[0])\n",
    "# print(len(IG_bs4.find_all(\"img\")))"
   ]
  }
 ],
 "metadata": {
  "kernelspec": {
   "display_name": "Python 3 (ipykernel)",
   "language": "python",
   "name": "python3"
  },
  "language_info": {
   "codemirror_mode": {
    "name": "ipython",
    "version": 3
   },
   "file_extension": ".py",
   "mimetype": "text/x-python",
   "name": "python",
   "nbconvert_exporter": "python",
   "pygments_lexer": "ipython3",
   "version": "3.8.12"
  }
 },
 "nbformat": 4,
 "nbformat_minor": 5
}
