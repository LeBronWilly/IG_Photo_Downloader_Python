{
 "cells": [
  {
   "cell_type": "markdown",
   "id": "1466dbc9",
   "metadata": {},
   "source": [
    "1. https://instaloader.github.io/index.html\n",
    "2. https://stackoverflow.com/questions/71182479/download-only-instagram-videos-with-instaloader\n",
    "3. https://instaloader.github.io/module/structures.html#posts\n",
    "4. https://stackoverflow.com/questions/71182479/download-only-instagram-videos-with-instaloader\n",
    "5. https://samjason515.medium.com/超簡單instagram-爬蟲套件-instaloader-ad3ec7016fa2"
   ]
  },
  {
   "cell_type": "code",
   "execution_count": 41,
   "id": "637c93b0",
   "metadata": {},
   "outputs": [
    {
     "name": "stdout",
     "output_type": "stream",
     "text": [
      "\n",
      "HTTP redirect from https://www.instagram.com/graphql/query to https://www.instagram.com/accounts/login/?next=/graphql/query\n"
     ]
    },
    {
     "ename": "LoginRequiredException",
     "evalue": "Redirected to login page. Use --login.",
     "output_type": "error",
     "traceback": [
      "\u001b[1;31m---------------------------------------------------------------------------\u001b[0m",
      "\u001b[1;31mLoginRequiredException\u001b[0m                    Traceback (most recent call last)",
      "\u001b[1;32m~\\AppData\\Local\\Temp/ipykernel_29388/2439706565.py\u001b[0m in \u001b[0;36m<module>\u001b[1;34m\u001b[0m\n\u001b[0;32m     14\u001b[0m \u001b[0mprofile\u001b[0m \u001b[1;33m=\u001b[0m \u001b[0minstaloader\u001b[0m\u001b[1;33m.\u001b[0m\u001b[0mProfile\u001b[0m\u001b[1;33m.\u001b[0m\u001b[0mfrom_username\u001b[0m\u001b[1;33m(\u001b[0m\u001b[0mig\u001b[0m\u001b[1;33m.\u001b[0m\u001b[0mcontext\u001b[0m\u001b[1;33m,\u001b[0m \u001b[0mig_username\u001b[0m\u001b[1;33m)\u001b[0m\u001b[1;33m\u001b[0m\u001b[1;33m\u001b[0m\u001b[0m\n\u001b[0;32m     15\u001b[0m \u001b[1;31m# posts = sorted(profile.get_posts(), key=lambda post: post.date, reverse=True)\u001b[0m\u001b[1;33m\u001b[0m\u001b[1;33m\u001b[0m\u001b[1;33m\u001b[0m\u001b[0m\n\u001b[1;32m---> 16\u001b[1;33m \u001b[0mposts\u001b[0m \u001b[1;33m=\u001b[0m \u001b[0mlist\u001b[0m\u001b[1;33m(\u001b[0m\u001b[0mprofile\u001b[0m\u001b[1;33m.\u001b[0m\u001b[0mget_posts\u001b[0m\u001b[1;33m(\u001b[0m\u001b[1;33m)\u001b[0m\u001b[1;33m)\u001b[0m\u001b[1;33m\u001b[0m\u001b[1;33m\u001b[0m\u001b[0m\n\u001b[0m\u001b[0;32m     17\u001b[0m \u001b[0mdates_list\u001b[0m \u001b[1;33m=\u001b[0m \u001b[1;33m[\u001b[0m\u001b[0mpost\u001b[0m\u001b[1;33m.\u001b[0m\u001b[0mdate\u001b[0m\u001b[1;33m.\u001b[0m\u001b[0mstrftime\u001b[0m\u001b[1;33m(\u001b[0m\u001b[1;34m\"%Y/%m/%d %H:%M:%S\"\u001b[0m\u001b[1;33m)\u001b[0m \u001b[1;32mfor\u001b[0m \u001b[0mpost\u001b[0m \u001b[1;32min\u001b[0m \u001b[0mposts\u001b[0m\u001b[1;33m]\u001b[0m\u001b[1;33m\u001b[0m\u001b[1;33m\u001b[0m\u001b[0m\n",
      "\u001b[1;32mD:\\Anaconda3\\envs\\tensorflow\\lib\\site-packages\\instaloader\\nodeiterator.py\u001b[0m in \u001b[0;36m__next__\u001b[1;34m(self)\u001b[0m\n\u001b[0;32m    139\u001b[0m             \u001b[1;32mreturn\u001b[0m \u001b[0mitem\u001b[0m\u001b[1;33m\u001b[0m\u001b[1;33m\u001b[0m\u001b[0m\n\u001b[0;32m    140\u001b[0m         \u001b[1;32mif\u001b[0m \u001b[0mself\u001b[0m\u001b[1;33m.\u001b[0m\u001b[0m_data\u001b[0m\u001b[1;33m[\u001b[0m\u001b[1;34m'page_info'\u001b[0m\u001b[1;33m]\u001b[0m\u001b[1;33m[\u001b[0m\u001b[1;34m'has_next_page'\u001b[0m\u001b[1;33m]\u001b[0m\u001b[1;33m:\u001b[0m\u001b[1;33m\u001b[0m\u001b[1;33m\u001b[0m\u001b[0m\n\u001b[1;32m--> 141\u001b[1;33m             \u001b[0mquery_response\u001b[0m \u001b[1;33m=\u001b[0m \u001b[0mself\u001b[0m\u001b[1;33m.\u001b[0m\u001b[0m_query\u001b[0m\u001b[1;33m(\u001b[0m\u001b[0mself\u001b[0m\u001b[1;33m.\u001b[0m\u001b[0m_data\u001b[0m\u001b[1;33m[\u001b[0m\u001b[1;34m'page_info'\u001b[0m\u001b[1;33m]\u001b[0m\u001b[1;33m[\u001b[0m\u001b[1;34m'end_cursor'\u001b[0m\u001b[1;33m]\u001b[0m\u001b[1;33m)\u001b[0m\u001b[1;33m\u001b[0m\u001b[1;33m\u001b[0m\u001b[0m\n\u001b[0m\u001b[0;32m    142\u001b[0m             \u001b[1;32mif\u001b[0m \u001b[0mself\u001b[0m\u001b[1;33m.\u001b[0m\u001b[0m_data\u001b[0m\u001b[1;33m[\u001b[0m\u001b[1;34m'edges'\u001b[0m\u001b[1;33m]\u001b[0m \u001b[1;33m!=\u001b[0m \u001b[0mquery_response\u001b[0m\u001b[1;33m[\u001b[0m\u001b[1;34m'edges'\u001b[0m\u001b[1;33m]\u001b[0m \u001b[1;32mand\u001b[0m \u001b[0mlen\u001b[0m\u001b[1;33m(\u001b[0m\u001b[0mquery_response\u001b[0m\u001b[1;33m[\u001b[0m\u001b[1;34m'edges'\u001b[0m\u001b[1;33m]\u001b[0m\u001b[1;33m)\u001b[0m \u001b[1;33m>\u001b[0m \u001b[1;36m0\u001b[0m\u001b[1;33m:\u001b[0m\u001b[1;33m\u001b[0m\u001b[1;33m\u001b[0m\u001b[0m\n\u001b[0;32m    143\u001b[0m                 \u001b[0mpage_index\u001b[0m\u001b[1;33m,\u001b[0m \u001b[0mdata\u001b[0m \u001b[1;33m=\u001b[0m \u001b[0mself\u001b[0m\u001b[1;33m.\u001b[0m\u001b[0m_page_index\u001b[0m\u001b[1;33m,\u001b[0m \u001b[0mself\u001b[0m\u001b[1;33m.\u001b[0m\u001b[0m_data\u001b[0m\u001b[1;33m\u001b[0m\u001b[1;33m\u001b[0m\u001b[0m\n",
      "\u001b[1;32mD:\\Anaconda3\\envs\\tensorflow\\lib\\site-packages\\instaloader\\nodeiterator.py\u001b[0m in \u001b[0;36m_query\u001b[1;34m(self, after)\u001b[0m\n\u001b[0;32m    101\u001b[0m         \u001b[1;32mtry\u001b[0m\u001b[1;33m:\u001b[0m\u001b[1;33m\u001b[0m\u001b[1;33m\u001b[0m\u001b[0m\n\u001b[0;32m    102\u001b[0m             data = self._edge_extractor(\n\u001b[1;32m--> 103\u001b[1;33m                 self._context.graphql_query(\n\u001b[0m\u001b[0;32m    104\u001b[0m                     \u001b[0mself\u001b[0m\u001b[1;33m.\u001b[0m\u001b[0m_query_hash\u001b[0m\u001b[1;33m,\u001b[0m \u001b[1;33m{\u001b[0m\u001b[1;33m**\u001b[0m\u001b[0mself\u001b[0m\u001b[1;33m.\u001b[0m\u001b[0m_query_variables\u001b[0m\u001b[1;33m,\u001b[0m \u001b[1;33m**\u001b[0m\u001b[0mpagination_variables\u001b[0m\u001b[1;33m}\u001b[0m\u001b[1;33m,\u001b[0m \u001b[0mself\u001b[0m\u001b[1;33m.\u001b[0m\u001b[0m_query_referer\u001b[0m\u001b[1;33m\u001b[0m\u001b[1;33m\u001b[0m\u001b[0m\n\u001b[0;32m    105\u001b[0m                 )\n",
      "\u001b[1;32mD:\\Anaconda3\\envs\\tensorflow\\lib\\site-packages\\instaloader\\instaloadercontext.py\u001b[0m in \u001b[0;36mgraphql_query\u001b[1;34m(self, query_hash, variables, referer, rhx_gis)\u001b[0m\n\u001b[0;32m    426\u001b[0m                 \u001b[0mtmpsession\u001b[0m\u001b[1;33m.\u001b[0m\u001b[0mheaders\u001b[0m\u001b[1;33m[\u001b[0m\u001b[1;34m'x-instagram-gis'\u001b[0m\u001b[1;33m]\u001b[0m \u001b[1;33m=\u001b[0m \u001b[0mx_instagram_gis\u001b[0m\u001b[1;33m\u001b[0m\u001b[1;33m\u001b[0m\u001b[0m\n\u001b[0;32m    427\u001b[0m \u001b[1;33m\u001b[0m\u001b[0m\n\u001b[1;32m--> 428\u001b[1;33m             resp_json = self.get_json('graphql/query',\n\u001b[0m\u001b[0;32m    429\u001b[0m                                       params={'query_hash': query_hash,\n\u001b[0;32m    430\u001b[0m                                               'variables': variables_json},\n",
      "\u001b[1;32mD:\\Anaconda3\\envs\\tensorflow\\lib\\site-packages\\instaloader\\instaloadercontext.py\u001b[0m in \u001b[0;36mget_json\u001b[1;34m(self, path, params, host, session, _attempt)\u001b[0m\n\u001b[0;32m    334\u001b[0m                 \u001b[1;32mif\u001b[0m \u001b[0mredirect_url\u001b[0m\u001b[1;33m.\u001b[0m\u001b[0mstartswith\u001b[0m\u001b[1;33m(\u001b[0m\u001b[1;34m'https://www.instagram.com/accounts/login'\u001b[0m\u001b[1;33m)\u001b[0m\u001b[1;33m:\u001b[0m\u001b[1;33m\u001b[0m\u001b[1;33m\u001b[0m\u001b[0m\n\u001b[0;32m    335\u001b[0m                     \u001b[1;32mif\u001b[0m \u001b[1;32mnot\u001b[0m \u001b[0mself\u001b[0m\u001b[1;33m.\u001b[0m\u001b[0mis_logged_in\u001b[0m\u001b[1;33m:\u001b[0m\u001b[1;33m\u001b[0m\u001b[1;33m\u001b[0m\u001b[0m\n\u001b[1;32m--> 336\u001b[1;33m                         \u001b[1;32mraise\u001b[0m \u001b[0mLoginRequiredException\u001b[0m\u001b[1;33m(\u001b[0m\u001b[1;34m\"Redirected to login page. Use --login.\"\u001b[0m\u001b[1;33m)\u001b[0m\u001b[1;33m\u001b[0m\u001b[1;33m\u001b[0m\u001b[0m\n\u001b[0m\u001b[0;32m    337\u001b[0m                     \u001b[1;31m# alternate rate limit exceeded behavior\u001b[0m\u001b[1;33m\u001b[0m\u001b[1;33m\u001b[0m\u001b[1;33m\u001b[0m\u001b[0m\n\u001b[0;32m    338\u001b[0m                     \u001b[1;32mraise\u001b[0m \u001b[0mTooManyRequestsException\u001b[0m\u001b[1;33m(\u001b[0m\u001b[1;34m\"Redirected to login\"\u001b[0m\u001b[1;33m)\u001b[0m\u001b[1;33m\u001b[0m\u001b[1;33m\u001b[0m\u001b[0m\n",
      "\u001b[1;31mLoginRequiredException\u001b[0m: Redirected to login page. Use --login."
     ]
    }
   ],
   "source": [
    "import instaloader\n",
    "import os\n",
    "import glob\n",
    "# from datetime import datetime, timezone\n",
    " \n",
    "ig = instaloader.Instaloader()\n",
    "account = input(\"Enter your IG account: \")\n",
    "password = input(\"Enter your IG password: \")\n",
    "ig.login(account, password)\n",
    "\n",
    "ig_username = \"kingjames\"\n",
    "# ig_username = \"patbev21\"\n",
    "\n",
    "profile = instaloader.Profile.from_username(ig.context, ig_username)\n",
    "# posts = sorted(profile.get_posts(), key=lambda post: post.date, reverse=True)\n",
    "posts = list(profile.get_posts())\n",
    "dates_list = [post.date.strftime(\"%Y/%m/%d %H:%M:%S\") for post in posts]"
   ]
  },
  {
   "cell_type": "code",
   "execution_count": null,
   "id": "0ebee2d2",
   "metadata": {},
   "outputs": [],
   "source": [
    "dates_list"
   ]
  },
  {
   "cell_type": "code",
   "execution_count": 32,
   "id": "4ddeeb1c",
   "metadata": {
    "scrolled": true
   },
   "outputs": [
    {
     "name": "stdout",
     "output_type": "stream",
     "text": [
      "patbev21\\2022-08-24_22-23-14_UTC_1.jpg patbev21\\2022-08-24_22-23-14_UTC_2.jpg patbev21\\2022-08-24_22-23-14_UTC_3.jpg json \n"
     ]
    }
   ],
   "source": [
    "ig.download_post(posts[dates_list.index('2022/08/24 22:23:14')], ig_username)\n",
    "delete_list = glob.glob(PROFILE+'/*.json.xz')\n",
    "for d in delete_list:\n",
    "    os.remove(d)"
   ]
  },
  {
   "cell_type": "code",
   "execution_count": null,
   "id": "37ed527e",
   "metadata": {},
   "outputs": [],
   "source": []
  },
  {
   "cell_type": "code",
   "execution_count": null,
   "id": "caaa5035",
   "metadata": {},
   "outputs": [],
   "source": []
  },
  {
   "cell_type": "code",
   "execution_count": null,
   "id": "feb2acab",
   "metadata": {},
   "outputs": [],
   "source": []
  },
  {
   "cell_type": "code",
   "execution_count": null,
   "id": "383d750e",
   "metadata": {},
   "outputs": [],
   "source": []
  },
  {
   "cell_type": "code",
   "execution_count": null,
   "id": "114c9d9e",
   "metadata": {},
   "outputs": [],
   "source": []
  },
  {
   "cell_type": "code",
   "execution_count": 29,
   "id": "cad62652",
   "metadata": {
    "scrolled": true
   },
   "outputs": [],
   "source": [
    "# https://www.learncodewithmike.com/2020/05/python-selenium-scraper.html\n",
    "# https://www.learncodewithmike.com/2020/02/python-beautifulsoup-web-scraper.html\n",
    "# https://www.learncodewithmike.com/2020/09/7-tips-to-avoid-getting-blocked-while-scraping.html\n",
    "# https://steam.oxxostudio.tw/category/python/spider/crack-spider.html\n",
    "# https://selenium-python.readthedocs.io/\n",
    "# https://www.learncodewithmike.com/2020/05/python-selenium-scraper.html\n",
    "# https://stackoverflow.com/questions/52769997/selenium-webdriver-firefox-options-what-is-it-about\n",
    "\n",
    "    \n",
    "import requests\n",
    "from bs4 import BeautifulSoup\n",
    "from selenium import webdriver\n",
    "from time import sleep\n",
    "# from selenium.webdriver.firefox.options import Options\n",
    "from selenium.webdriver.chrome.options import Options\n",
    "\n",
    "\n",
    "IG_url = \"https://www.instagram.com/p/ChnyHzGNFtC/\"\n",
    "user_agent = \"Mozilla/5.0 (Macintosh; Intel Mac OS X 10_13_6) AppleWebKit/605.1.15 (KHTML, like Gecko) Version/12.0.3 Safari/605.1.15\"\n",
    "\n",
    "options = Options()\n",
    "# options.add_argument(\"--disable-notifications\")\n",
    "options.add_argument('--disable-notifications --user-agent=%s' % user_agent)\n",
    "\n",
    "# chrome = webdriver.Firefox(options=options)\n",
    "chrome = webdriver.Chrome(options=options)\n",
    "chrome.get(IG_url)\n",
    "\n",
    "\n",
    "\n",
    "# my_headers = {'user-agent': 'Mozilla/5.0 (Macintosh Intel Mac OS X 10_13_4) AppleWebKit/537.36 (KHTML, like Gecko) Chrome/66.0.3359.181 Safari/537.36'}\n",
    "\n",
    "# IG_html = requests.get(IG_url, headers=my_headers)\n",
    "# print(IG_html.status_code)\n",
    "\n",
    "# IG_bs4 = BeautifulSoup(IG_html.text, 'html.parser')\n",
    "# print(IG_bs4.prettify())\n",
    "# print(IG_bs4.find_all(\"img\")[0])\n",
    "# print(len(IG_bs4.find_all(\"img\")))"
   ]
  }
 ],
 "metadata": {
  "kernelspec": {
   "display_name": "Python 3 (ipykernel)",
   "language": "python",
   "name": "python3"
  },
  "language_info": {
   "codemirror_mode": {
    "name": "ipython",
    "version": 3
   },
   "file_extension": ".py",
   "mimetype": "text/x-python",
   "name": "python",
   "nbconvert_exporter": "python",
   "pygments_lexer": "ipython3",
   "version": "3.8.12"
  }
 },
 "nbformat": 4,
 "nbformat_minor": 5
}
