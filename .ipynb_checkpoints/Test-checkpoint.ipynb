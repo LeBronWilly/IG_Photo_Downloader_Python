{
 "cells": [
  {
   "cell_type": "code",
   "execution_count": 29,
   "id": "cad62652",
   "metadata": {
    "scrolled": true
   },
   "outputs": [],
   "source": [
    "# https://www.learncodewithmike.com/2020/05/python-selenium-scraper.html\n",
    "# https://www.learncodewithmike.com/2020/02/python-beautifulsoup-web-scraper.html\n",
    "# https://www.learncodewithmike.com/2020/09/7-tips-to-avoid-getting-blocked-while-scraping.html\n",
    "# https://steam.oxxostudio.tw/category/python/spider/crack-spider.html\n",
    "# https://selenium-python.readthedocs.io/\n",
    "# https://www.learncodewithmike.com/2020/05/python-selenium-scraper.html\n",
    "# https://stackoverflow.com/questions/52769997/selenium-webdriver-firefox-options-what-is-it-about\n",
    "\n",
    "    \n",
    "import requests\n",
    "from bs4 import BeautifulSoup\n",
    "from selenium import webdriver\n",
    "from time import sleep\n",
    "# from selenium.webdriver.firefox.options import Options\n",
    "from selenium.webdriver.chrome.options import Options\n",
    "\n",
    "\n",
    "IG_url = \"https://www.instagram.com/p/ChnyHzGNFtC/\"\n",
    "user_agent = \"Mozilla/5.0 (Macintosh; Intel Mac OS X 10_13_6) AppleWebKit/605.1.15 (KHTML, like Gecko) Version/12.0.3 Safari/605.1.15\"\n",
    "\n",
    "options = Options()\n",
    "# options.add_argument(\"--disable-notifications\")\n",
    "options.add_argument('--disable-notifications --user-agent=%s' % user_agent)\n",
    "\n",
    "# chrome = webdriver.Firefox(options=options)\n",
    "chrome = webdriver.Chrome(options=options)\n",
    "chrome.get(IG_url)\n",
    "\n",
    "\n",
    "\n",
    "# my_headers = {'user-agent': 'Mozilla/5.0 (Macintosh Intel Mac OS X 10_13_4) AppleWebKit/537.36 (KHTML, like Gecko) Chrome/66.0.3359.181 Safari/537.36'}\n",
    "\n",
    "# IG_html = requests.get(IG_url, headers=my_headers)\n",
    "# print(IG_html.status_code)\n",
    "\n",
    "# IG_bs4 = BeautifulSoup(IG_html.text, 'html.parser')\n",
    "# print(IG_bs4.prettify())\n",
    "# print(IG_bs4.find_all(\"img\")[0])\n",
    "# print(len(IG_bs4.find_all(\"img\")))"
   ]
  },
  {
   "cell_type": "code",
   "execution_count": null,
   "id": "13f03c4c",
   "metadata": {},
   "outputs": [],
   "source": []
  },
  {
   "cell_type": "code",
   "execution_count": null,
   "id": "f406e343",
   "metadata": {},
   "outputs": [],
   "source": []
  },
  {
   "cell_type": "code",
   "execution_count": null,
   "id": "43bec10f",
   "metadata": {},
   "outputs": [],
   "source": []
  },
  {
   "cell_type": "code",
   "execution_count": null,
   "id": "8183fe95",
   "metadata": {},
   "outputs": [],
   "source": []
  },
  {
   "cell_type": "code",
   "execution_count": null,
   "id": "7e1f3ff6",
   "metadata": {},
   "outputs": [],
   "source": []
  },
  {
   "cell_type": "code",
   "execution_count": null,
   "id": "bd724417",
   "metadata": {},
   "outputs": [],
   "source": []
  },
  {
   "cell_type": "code",
   "execution_count": null,
   "id": "b98bb521",
   "metadata": {},
   "outputs": [],
   "source": []
  },
  {
   "cell_type": "code",
   "execution_count": null,
   "id": "809f84d3",
   "metadata": {},
   "outputs": [],
   "source": []
  },
  {
   "cell_type": "code",
   "execution_count": 18,
   "id": "ac6ef403",
   "metadata": {},
   "outputs": [
    {
     "name": "stdout",
     "output_type": "stream",
     "text": [
      "Collecting selenium\n",
      "  Downloading selenium-4.4.3-py3-none-any.whl (985 kB)\n",
      "Requirement already satisfied: urllib3[socks]~=1.26 in d:\\anaconda3\\envs\\tensorflow\\lib\\site-packages (from selenium) (1.26.7)\n",
      "Collecting trio~=0.17\n",
      "  Downloading trio-0.21.0-py3-none-any.whl (358 kB)\n",
      "Requirement already satisfied: certifi>=2021.10.8 in d:\\anaconda3\\envs\\tensorflow\\lib\\site-packages (from selenium) (2021.10.8)\n",
      "Collecting trio-websocket~=0.9\n",
      "  Downloading trio_websocket-0.9.2-py3-none-any.whl (16 kB)\n",
      "Requirement already satisfied: cffi>=1.14 in d:\\anaconda3\\envs\\tensorflow\\lib\\site-packages (from trio~=0.17->selenium) (1.15.0)\n",
      "Requirement already satisfied: async-generator>=1.9 in d:\\anaconda3\\envs\\tensorflow\\lib\\site-packages (from trio~=0.17->selenium) (1.10)\n",
      "Requirement already satisfied: sortedcontainers in d:\\anaconda3\\envs\\tensorflow\\lib\\site-packages (from trio~=0.17->selenium) (2.4.0)\n",
      "Collecting outcome\n",
      "  Downloading outcome-1.2.0-py2.py3-none-any.whl (9.7 kB)\n",
      "Requirement already satisfied: attrs>=19.2.0 in d:\\anaconda3\\envs\\tensorflow\\lib\\site-packages (from trio~=0.17->selenium) (21.2.0)\n",
      "Requirement already satisfied: idna in d:\\anaconda3\\envs\\tensorflow\\lib\\site-packages (from trio~=0.17->selenium) (3.3)\n",
      "Requirement already satisfied: sniffio in d:\\anaconda3\\envs\\tensorflow\\lib\\site-packages (from trio~=0.17->selenium) (1.2.0)\n",
      "Requirement already satisfied: pycparser in d:\\anaconda3\\envs\\tensorflow\\lib\\site-packages (from cffi>=1.14->trio~=0.17->selenium) (2.21)\n",
      "Collecting wsproto>=0.14\n",
      "  Downloading wsproto-1.2.0-py3-none-any.whl (24 kB)\n",
      "Requirement already satisfied: PySocks!=1.5.7,<2.0,>=1.5.6 in d:\\anaconda3\\envs\\tensorflow\\lib\\site-packages (from urllib3[socks]~=1.26->selenium) (1.7.1)\n",
      "Collecting h11<1,>=0.9.0\n",
      "  Downloading h11-0.13.0-py3-none-any.whl (58 kB)\n",
      "Installing collected packages: outcome, h11, wsproto, trio, trio-websocket, selenium\n",
      "Successfully installed h11-0.13.0 outcome-1.2.0 selenium-4.4.3 trio-0.21.0 trio-websocket-0.9.2 wsproto-1.2.0\n"
     ]
    }
   ],
   "source": []
  }
 ],
 "metadata": {
  "kernelspec": {
   "display_name": "Python 3 (ipykernel)",
   "language": "python",
   "name": "python3"
  },
  "language_info": {
   "codemirror_mode": {
    "name": "ipython",
    "version": 3
   },
   "file_extension": ".py",
   "mimetype": "text/x-python",
   "name": "python",
   "nbconvert_exporter": "python",
   "pygments_lexer": "ipython3",
   "version": "3.8.12"
  }
 },
 "nbformat": 4,
 "nbformat_minor": 5
}
