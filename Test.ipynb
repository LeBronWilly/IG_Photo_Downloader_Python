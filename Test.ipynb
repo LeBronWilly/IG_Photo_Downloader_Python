{
 "cells": [
  {
   "cell_type": "code",
   "execution_count": 29,
   "id": "cad62652",
   "metadata": {
    "scrolled": true
   },
   "outputs": [],
   "source": [
    "# https://www.learncodewithmike.com/2020/05/python-selenium-scraper.html\n",
    "# https://www.learncodewithmike.com/2020/02/python-beautifulsoup-web-scraper.html\n",
    "# https://www.learncodewithmike.com/2020/09/7-tips-to-avoid-getting-blocked-while-scraping.html\n",
    "# https://steam.oxxostudio.tw/category/python/spider/crack-spider.html\n",
    "# https://selenium-python.readthedocs.io/\n",
    "# https://www.learncodewithmike.com/2020/05/python-selenium-scraper.html\n",
    "# https://stackoverflow.com/questions/52769997/selenium-webdriver-firefox-options-what-is-it-about\n",
    "\n",
    "    \n",
    "import requests\n",
    "from bs4 import BeautifulSoup\n",
    "from selenium import webdriver\n",
    "from time import sleep\n",
    "# from selenium.webdriver.firefox.options import Options\n",
    "from selenium.webdriver.chrome.options import Options\n",
    "\n",
    "\n",
    "IG_url = \"https://www.instagram.com/p/ChnyHzGNFtC/\"\n",
    "user_agent = \"Mozilla/5.0 (Macintosh; Intel Mac OS X 10_13_6) AppleWebKit/605.1.15 (KHTML, like Gecko) Version/12.0.3 Safari/605.1.15\"\n",
    "\n",
    "options = Options()\n",
    "# options.add_argument(\"--disable-notifications\")\n",
    "options.add_argument('--disable-notifications --user-agent=%s' % user_agent)\n",
    "\n",
    "# chrome = webdriver.Firefox(options=options)\n",
    "chrome = webdriver.Chrome(options=options)\n",
    "chrome.get(IG_url)\n",
    "\n",
    "\n",
    "\n",
    "# my_headers = {'user-agent': 'Mozilla/5.0 (Macintosh Intel Mac OS X 10_13_4) AppleWebKit/537.36 (KHTML, like Gecko) Chrome/66.0.3359.181 Safari/537.36'}\n",
    "\n",
    "# IG_html = requests.get(IG_url, headers=my_headers)\n",
    "# print(IG_html.status_code)\n",
    "\n",
    "# IG_bs4 = BeautifulSoup(IG_html.text, 'html.parser')\n",
    "# print(IG_bs4.prettify())\n",
    "# print(IG_bs4.find_all(\"img\")[0])\n",
    "# print(len(IG_bs4.find_all(\"img\")))"
   ]
  },
  {
   "cell_type": "code",
   "execution_count": null,
   "id": "13f03c4c",
   "metadata": {},
   "outputs": [],
   "source": []
  },
  {
   "cell_type": "code",
   "execution_count": null,
   "id": "f406e343",
   "metadata": {},
   "outputs": [],
   "source": []
  },
  {
   "cell_type": "code",
   "execution_count": null,
   "id": "43bec10f",
   "metadata": {},
   "outputs": [],
   "source": []
  },
  {
   "cell_type": "code",
   "execution_count": null,
   "id": "8183fe95",
   "metadata": {},
   "outputs": [],
   "source": []
  },
  {
   "cell_type": "code",
   "execution_count": null,
   "id": "53674a96",
   "metadata": {},
   "outputs": [],
   "source": []
  },
  {
   "cell_type": "code",
   "execution_count": 41,
   "id": "637c93b0",
   "metadata": {},
   "outputs": [],
   "source": [
    "# https://instaloader.github.io/\n",
    "# https://instaloader.github.io/index.html\n",
    "# https://stackoverflow.com/questions/71182479/download-only-instagram-videos-with-instaloader\n",
    "# https://instaloader.github.io/module/structures.html#posts\n",
    "# https://stackoverflow.com/questions/71182479/download-only-instagram-videos-with-instaloader\n",
    "# https://samjason515.medium.com/超簡單instagram-爬蟲套件-instaloader-ad3ec7016fa2\n",
    "\n",
    "import instaloader\n",
    "from datetime import datetime, timezone\n",
    " \n",
    "ig = instaloader.Instaloader()\n",
    "\n",
    "PROFILE = \"patbev21\"\n",
    "profile = instaloader.Profile.from_username(ig.context, PROFILE)\n",
    "# dp = input(\"Enter Insta username : \")\n",
    "# dp = \"patbev21\"\n",
    "\n",
    "posts = sorted(profile.get_posts(), key=lambda post: post.date, reverse=True)\n",
    "\n",
    "# ig.download_profile(dp , profile_pic_only=True)\n",
    "# ig.download_pic(filename=\"ttt\",url=\"https://www.instagram.com/p/ChqKt-bOQVr/\", mtime=datetime.now())"
   ]
  },
  {
   "cell_type": "code",
   "execution_count": 45,
   "id": "4ddeeb1c",
   "metadata": {
    "scrolled": true
   },
   "outputs": [
    {
     "name": "stdout",
     "output_type": "stream",
     "text": [
      "patbev21\\2022-08-24_22-23-14_UTC_1.jpg patbev21\\2022-08-24_22-23-14_UTC_2.jpg patbev21\\2022-08-24_22-23-14_UTC_3.jpg json \n"
     ]
    },
    {
     "data": {
      "text/plain": [
       "True"
      ]
     },
     "execution_count": 45,
     "metadata": {},
     "output_type": "execute_result"
    }
   ],
   "source": [
    "ig.download_post(posts[0], PROFILE)"
   ]
  },
  {
   "cell_type": "code",
   "execution_count": null,
   "id": "9e5ec7c7",
   "metadata": {},
   "outputs": [],
   "source": []
  }
 ],
 "metadata": {
  "kernelspec": {
   "display_name": "Python 3 (ipykernel)",
   "language": "python",
   "name": "python3"
  },
  "language_info": {
   "codemirror_mode": {
    "name": "ipython",
    "version": 3
   },
   "file_extension": ".py",
   "mimetype": "text/x-python",
   "name": "python",
   "nbconvert_exporter": "python",
   "pygments_lexer": "ipython3",
   "version": "3.8.12"
  }
 },
 "nbformat": 4,
 "nbformat_minor": 5
}
